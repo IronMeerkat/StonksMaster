{
 "cells": [
  {
   "cell_type": "code",
   "execution_count": 1,
   "id": "03e07f44",
   "metadata": {},
   "outputs": [],
   "source": [
    "import pandas as pd\n",
    "from datetime import datetime, timedelta, date\n",
    "import time\n",
    "import yfinance as yf\n",
    "\n",
    "from findata import *"
   ]
  },
  {
   "cell_type": "code",
   "execution_count": null,
   "id": "cbe7aca4",
   "metadata": {},
   "outputs": [],
   "source": [
    "symbol = 'NVDA'\n",
    "history = get_history(symbol)"
   ]
  },
  {
   "cell_type": "code",
   "execution_count": null,
   "id": "80f9545a",
   "metadata": {},
   "outputs": [],
   "source": [
    "ticker = yf.Ticker(symbol)\n",
    "num_shares = ticker.info['sharesOutstanding']"
   ]
  },
  {
   "cell_type": "code",
   "execution_count": null,
   "id": "f44354a3",
   "metadata": {},
   "outputs": [],
   "source": [
    "q_reports = finnhub_client.financials_reported(symbol=symbol, freq='quarterly')\n",
    "profits = get_profits(q_reports)\n"
   ]
  },
  {
   "cell_type": "code",
   "execution_count": 5,
   "id": "a475088e",
   "metadata": {},
   "outputs": [],
   "source": [
    "history = add_profits_to_history(history, profits)"
   ]
  },
  {
   "cell_type": "code",
   "execution_count": 6,
   "id": "5688a9df",
   "metadata": {},
   "outputs": [],
   "source": [
    "history['market_cap'] = history.Close * num_shares\n",
    "history['pe_ratio'] = history.market_cap / history.profits"
   ]
  },
  {
   "cell_type": "code",
   "execution_count": 7,
   "id": "b07ca562",
   "metadata": {},
   "outputs": [
    {
     "data": {
      "application/vnd.microsoft.datawrangler.viewer.v0+json": {
       "columns": [
        {
         "name": "index",
         "rawType": "object",
         "type": "unknown"
        },
        {
         "name": "pe_ratio",
         "rawType": "object",
         "type": "unknown"
        }
       ],
       "ref": "86735ca7-777a-4b03-9f59-57817cdbdb6c",
       "rows": [
        [
         "2025-06-17",
         "187.20324091941413"
        ],
        [
         "2025-06-16",
         "187.94364629033288"
        ],
        [
         "2025-06-13",
         "184.41052763177098"
        ],
        [
         "2025-06-12",
         "188.34631455019974"
        ],
        [
         "2025-06-11",
         "185.52761691087883"
        ],
        [
         "2025-06-10",
         "186.98244330103861"
        ],
        [
         "2025-06-09",
         "185.25496951066577"
        ],
        [
         "2025-06-06",
         "184.073008543502"
        ],
        [
         "2025-06-05",
         "181.82600628159787"
        ],
        [
         "2025-06-04",
         "184.33277277926766"
        ],
        [
         "2025-06-03",
         "183.4235781338349"
        ],
        [
         "2025-06-02",
         "178.4360096699201"
        ],
        [
         "2025-05-30",
         "175.5135926466711"
        ],
        [
         "2025-05-29",
         "180.78692951828228"
        ],
        [
         "2025-05-28",
         "175.09796194134486"
        ],
        [
         "2025-05-27",
         "65.0591712920662"
        ],
        [
         "2025-05-23",
         "63.03777849349269"
        ],
        [
         "2025-05-22",
         "63.777200575139304"
        ],
        [
         "2025-05-21",
         "63.28265037481049"
        ],
        [
         "2025-05-20",
         "64.52141444070567"
        ],
        [
         "2025-05-19",
         "65.09278704837169"
        ],
        [
         "2025-05-16",
         "65.01115820334128"
        ],
        [
         "2025-05-15",
         "64.73747700341117"
        ],
        [
         "2025-05-14",
         "64.98234888472898"
        ],
        [
         "2025-05-13",
         "62.38478436768296"
        ],
        [
         "2025-05-12",
         "59.05740698093337"
        ],
        [
         "2025-05-09",
         "56.008506241476994"
        ],
        [
         "2025-05-08",
         "56.35421073793784"
        ],
        [
         "2025-05-07",
         "56.20536503406988"
        ],
        [
         "2025-05-06",
         "54.5152684092077"
        ],
        [
         "2025-05-05",
         "54.64970579032615"
        ],
        [
         "2025-05-02",
         "54.976202853231015"
        ],
        [
         "2025-05-01",
         "53.58859308346788"
        ],
        [
         "2025-04-30",
         "52.29701315459794"
        ],
        [
         "2025-04-29",
         "52.34502624332286"
        ],
        [
         "2025-04-28",
         "52.20578608795458"
        ],
        [
         "2025-04-25",
         "53.30051088767499"
        ],
        [
         "2025-04-24",
         "51.101459403177856"
        ],
        [
         "2025-04-23",
         "49.315332937422475"
        ],
        [
         "2025-04-22",
         "47.48119338294217"
        ],
        [
         "2025-04-21",
         "46.53051517628325"
        ],
        [
         "2025-04-17",
         "48.72955933389366"
        ],
        [
         "2025-04-16",
         "50.16998496663155"
        ],
        [
         "2025-04-15",
         "53.87187616845429"
        ],
        [
         "2025-04-14",
         "53.1564642946135"
        ],
        [
         "2025-04-11",
         "53.262096020563014"
        ],
        [
         "2025-04-10",
         "51.64882180303806"
        ],
        [
         "2025-04-09",
         "54.89457767164396"
        ],
        [
         "2025-04-08",
         "46.237630206240524"
        ],
        [
         "2025-04-07",
         "46.88101512010721"
        ]
       ],
       "shape": {
        "columns": 1,
        "rows": 1004
       }
      },
      "text/plain": [
       "2025-06-17    187.203241\n",
       "2025-06-16    187.943646\n",
       "2025-06-13    184.410528\n",
       "2025-06-12    188.346315\n",
       "2025-06-11    185.527617\n",
       "                 ...    \n",
       "2021-06-24     244.44734\n",
       "2021-06-23    242.560366\n",
       "2021-06-22     240.39026\n",
       "2021-06-21    234.541767\n",
       "2021-06-18    237.233739\n",
       "Name: pe_ratio, Length: 1004, dtype: object"
      ]
     },
     "execution_count": 7,
     "metadata": {},
     "output_type": "execute_result"
    }
   ],
   "source": [
    "history['pe_ratio']"
   ]
  },
  {
   "cell_type": "code",
   "execution_count": null,
   "id": "9ec58b5c",
   "metadata": {},
   "outputs": [],
   "source": []
  }
 ],
 "metadata": {
  "kernelspec": {
   "display_name": ".venv",
   "language": "python",
   "name": "python3"
  },
  "language_info": {
   "codemirror_mode": {
    "name": "ipython",
    "version": 3
   },
   "file_extension": ".py",
   "mimetype": "text/x-python",
   "name": "python",
   "nbconvert_exporter": "python",
   "pygments_lexer": "ipython3",
   "version": "3.12.2"
  }
 },
 "nbformat": 4,
 "nbformat_minor": 5
}
